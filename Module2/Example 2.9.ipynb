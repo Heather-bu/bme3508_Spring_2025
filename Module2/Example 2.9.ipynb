{
 "cells": [
  {
   "cell_type": "markdown",
   "metadata": {},
   "source": [
    "# THE FOURIER TRANSFORM\n",
    "\n",
    "So far we have discussed many ways to represent a periodic wave function with both trigonometric and exponential terms. \n",
    "Here is some review\n",
    "\n",
    "## The trignometric form of the  Fourier series:\n",
    "\n",
    "$$\n",
    "f(x) = a_0 + \\sum_{n=1}^{\\infty} \\left( a_n \\cos(nx) + b_n \\sin(nx) \\right)\n",
    "$$\n",
    "\n",
    "where\n",
    "\n",
    "$$\n",
    "a_0 = \\frac{1}{2\\pi} \\int_{-\\pi}^{\\pi} f(x) \\, dx,\n",
    "$$\n",
    "\n",
    "$$\n",
    "a_n = \\frac{1}{\\pi} \\int_{-\\pi}^{\\pi} f(x) \\cos(nx) \\, dx \\quad \\text{for } n \\geq 1,\n",
    "$$\n",
    "\n",
    "$$\n",
    "b_n = \\frac{1}{\\pi} \\int_{-\\pi}^{\\pi} f(x) \\sin(nx) \\, dx \\quad \\text{for } n \\geq 1.\n",
    "$$\n",
    "\n",
    "## The exponential form of the Fourier series:\n",
    "\n",
    "$$\n",
    "f(x) = \\sum_{n=-\\infty}^{\\infty} c_n e^{inx}\n",
    "$$\n",
    "\n",
    "where the Fourier coefficients $c_n$ are given by:\n",
    "\n",
    "$$\n",
    "c_n = \\frac{1}{2\\pi} \\int_{-\\pi}^{\\pi} f(x) e^{-inx} \\, dx\n",
    "$$"
   ]
  },
  {
   "cell_type": "code",
   "execution_count": 5,
   "metadata": {},
   "outputs": [
    {
     "ename": "ModuleNotFoundError",
     "evalue": "No module named 'matplotlib'",
     "output_type": "error",
     "traceback": [
      "\u001b[31m---------------------------------------------------------------------------\u001b[39m",
      "\u001b[31mModuleNotFoundError\u001b[39m                       Traceback (most recent call last)",
      "\u001b[36mCell\u001b[39m\u001b[36m \u001b[39m\u001b[32mIn[5]\u001b[39m\u001b[32m, line 2\u001b[39m\n\u001b[32m      1\u001b[39m \u001b[38;5;28;01mimport\u001b[39;00m\u001b[38;5;250m \u001b[39m\u001b[34;01mnumpy\u001b[39;00m\u001b[38;5;250m \u001b[39m\u001b[38;5;28;01mas\u001b[39;00m\u001b[38;5;250m \u001b[39m\u001b[34;01mnp\u001b[39;00m\n\u001b[32m----> \u001b[39m\u001b[32m2\u001b[39m \u001b[38;5;28;01mimport\u001b[39;00m\u001b[38;5;250m \u001b[39m\u001b[34;01mmatplotlib\u001b[39;00m\u001b[34;01m.\u001b[39;00m\u001b[34;01mpyplot\u001b[39;00m\u001b[38;5;250m \u001b[39m\u001b[38;5;28;01mas\u001b[39;00m\u001b[38;5;250m \u001b[39m\u001b[34;01mplt\u001b[39;00m\n\u001b[32m      4\u001b[39m \u001b[38;5;66;03m# Define the time variable\u001b[39;00m\n\u001b[32m      5\u001b[39m t = np.linspace(\u001b[32m0\u001b[39m, \u001b[32m2\u001b[39m * np.pi, \u001b[32m1000\u001b[39m)\n",
      "\u001b[31mModuleNotFoundError\u001b[39m: No module named 'matplotlib'"
     ]
    }
   ],
   "source": [
    "import numpy as np\n",
    "import matplotlib.pyplot as plt\n",
    "\n",
    "# Define the time variable\n",
    "t = np.linspace(0, 2 * np.pi, 1000)\n",
    "\n",
    "# Define the square wave using the sign function\n",
    "square_wave = np.sign(np.sin(t))\n",
    "\n",
    "# Define the sinusoidal wave\n",
    "sin_wave = np.sin(t)\n",
    "\n",
    "# Plot both waves\n",
    "plt.figure(figsize=(10, 6))\n",
    "plt.plot(t, square_wave, label='Square Wave', color='blue')\n",
    "plt.plot(t, sin_wave, label='Sinusoidal Wave', color='red', linestyle='--')\n",
    "\n",
    "# Add title and labels\n",
    "plt.title('Square Wave and Sinusoidal Wave')\n",
    "plt.xlabel('Time (rad)')\n",
    "plt.ylabel('Amplitude')\n",
    "\n",
    "# Add legend\n",
    "plt.legend()\n",
    "\n",
    "# Show the grid\n",
    "plt.grid(True)\n",
    "\n",
    "# Show the plot\n",
    "plt.show()"
   ]
  },
  {
   "cell_type": "code",
   "execution_count": 1,
   "metadata": {},
   "outputs": [
    {
     "data": {
      "text/html": [
       "\n",
       "        <iframe\n",
       "            width=\"400\"\n",
       "            height=\"300\"\n",
       "            src=\"https://www.youtube.com/embed/https://www.youtube.com/embed/peSLM4XObBE\"\n",
       "            frameborder=\"0\"\n",
       "            allowfullscreen\n",
       "            \n",
       "        ></iframe>\n",
       "        "
      ],
      "text/plain": [
       "<IPython.lib.display.YouTubeVideo at 0x22e84faef60>"
      ]
     },
     "metadata": {},
     "output_type": "display_data"
    }
   ],
   "source": [
    "from IPython.display import YouTubeVideo \n",
    "\n",
    "\n",
    "\n",
    "# Replace \"YOUR_VIDEO_ID\" with the actual video ID from the YouTube URL\n",
    "\n",
    "video = YouTubeVideo(\"https://www.youtube.com/embed/peSLM4XObBE\") \n",
    "\n",
    "display(video) "
   ]
  },
  {
   "cell_type": "code",
   "execution_count": null,
   "metadata": {},
   "outputs": [],
   "source": []
  }
 ],
 "metadata": {
  "kernelspec": {
   "display_name": ".venv",
   "language": "python",
   "name": "python3"
  },
  "language_info": {
   "codemirror_mode": {
    "name": "ipython",
    "version": 3
   },
   "file_extension": ".py",
   "mimetype": "text/x-python",
   "name": "python",
   "nbconvert_exporter": "python",
   "pygments_lexer": "ipython3",
   "version": "3.12.8"
  }
 },
 "nbformat": 4,
 "nbformat_minor": 2
}
